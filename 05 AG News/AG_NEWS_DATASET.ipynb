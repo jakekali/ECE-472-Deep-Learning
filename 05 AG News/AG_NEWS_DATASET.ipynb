{
  "nbformat": 4,
  "nbformat_minor": 0,
  "metadata": {
    "colab": {
      "provenance": [],
      "collapsed_sections": []
    },
    "kernelspec": {
      "name": "python3",
      "display_name": "Python 3"
    },
    "language_info": {
      "name": "python"
    },
    "accelerator": "GPU",
    "widgets": {
      "application/vnd.jupyter.widget-state+json": {
        "4aa8c65f99194fd18e972db90dc37651": {
          "model_module": "@jupyter-widgets/controls",
          "model_name": "HBoxModel",
          "model_module_version": "1.5.0",
          "state": {
            "_dom_classes": [],
            "_model_module": "@jupyter-widgets/controls",
            "_model_module_version": "1.5.0",
            "_model_name": "HBoxModel",
            "_view_count": null,
            "_view_module": "@jupyter-widgets/controls",
            "_view_module_version": "1.5.0",
            "_view_name": "HBoxView",
            "box_style": "",
            "children": [
              "IPY_MODEL_b7ca067c5cc54f8891e5e7f0c39f3a2b",
              "IPY_MODEL_784c18ebc16648a7b383e9a89f9815f4",
              "IPY_MODEL_0619c0a1d1204bfa96afbfca12dd45ad"
            ],
            "layout": "IPY_MODEL_d3abf86509ab40b1bf0fc8ae27aeb10c"
          }
        },
        "b7ca067c5cc54f8891e5e7f0c39f3a2b": {
          "model_module": "@jupyter-widgets/controls",
          "model_name": "HTMLModel",
          "model_module_version": "1.5.0",
          "state": {
            "_dom_classes": [],
            "_model_module": "@jupyter-widgets/controls",
            "_model_module_version": "1.5.0",
            "_model_name": "HTMLModel",
            "_view_count": null,
            "_view_module": "@jupyter-widgets/controls",
            "_view_module_version": "1.5.0",
            "_view_name": "HTMLView",
            "description": "",
            "description_tooltip": null,
            "layout": "IPY_MODEL_aa495065dd414be5aa229fe9177d9540",
            "placeholder": "​",
            "style": "IPY_MODEL_b78c9948d25c45439fc1003dd06ddce4",
            "value": "100%"
          }
        },
        "784c18ebc16648a7b383e9a89f9815f4": {
          "model_module": "@jupyter-widgets/controls",
          "model_name": "FloatProgressModel",
          "model_module_version": "1.5.0",
          "state": {
            "_dom_classes": [],
            "_model_module": "@jupyter-widgets/controls",
            "_model_module_version": "1.5.0",
            "_model_name": "FloatProgressModel",
            "_view_count": null,
            "_view_module": "@jupyter-widgets/controls",
            "_view_module_version": "1.5.0",
            "_view_name": "ProgressView",
            "bar_style": "success",
            "description": "",
            "description_tooltip": null,
            "layout": "IPY_MODEL_64d5d83240874b429450f9a6173b2956",
            "max": 2,
            "min": 0,
            "orientation": "horizontal",
            "style": "IPY_MODEL_a2ead8d49f754546bf8e421df74c2154",
            "value": 2
          }
        },
        "0619c0a1d1204bfa96afbfca12dd45ad": {
          "model_module": "@jupyter-widgets/controls",
          "model_name": "HTMLModel",
          "model_module_version": "1.5.0",
          "state": {
            "_dom_classes": [],
            "_model_module": "@jupyter-widgets/controls",
            "_model_module_version": "1.5.0",
            "_model_name": "HTMLModel",
            "_view_count": null,
            "_view_module": "@jupyter-widgets/controls",
            "_view_module_version": "1.5.0",
            "_view_name": "HTMLView",
            "description": "",
            "description_tooltip": null,
            "layout": "IPY_MODEL_851c3727887b4c78a4c85402ab381d61",
            "placeholder": "​",
            "style": "IPY_MODEL_4ff9f92ebb7c4984be95ef705eb0d103",
            "value": " 2/2 [00:00&lt;00:00, 56.47it/s]"
          }
        },
        "d3abf86509ab40b1bf0fc8ae27aeb10c": {
          "model_module": "@jupyter-widgets/base",
          "model_name": "LayoutModel",
          "model_module_version": "1.2.0",
          "state": {
            "_model_module": "@jupyter-widgets/base",
            "_model_module_version": "1.2.0",
            "_model_name": "LayoutModel",
            "_view_count": null,
            "_view_module": "@jupyter-widgets/base",
            "_view_module_version": "1.2.0",
            "_view_name": "LayoutView",
            "align_content": null,
            "align_items": null,
            "align_self": null,
            "border": null,
            "bottom": null,
            "display": null,
            "flex": null,
            "flex_flow": null,
            "grid_area": null,
            "grid_auto_columns": null,
            "grid_auto_flow": null,
            "grid_auto_rows": null,
            "grid_column": null,
            "grid_gap": null,
            "grid_row": null,
            "grid_template_areas": null,
            "grid_template_columns": null,
            "grid_template_rows": null,
            "height": null,
            "justify_content": null,
            "justify_items": null,
            "left": null,
            "margin": null,
            "max_height": null,
            "max_width": null,
            "min_height": null,
            "min_width": null,
            "object_fit": null,
            "object_position": null,
            "order": null,
            "overflow": null,
            "overflow_x": null,
            "overflow_y": null,
            "padding": null,
            "right": null,
            "top": null,
            "visibility": null,
            "width": null
          }
        },
        "aa495065dd414be5aa229fe9177d9540": {
          "model_module": "@jupyter-widgets/base",
          "model_name": "LayoutModel",
          "model_module_version": "1.2.0",
          "state": {
            "_model_module": "@jupyter-widgets/base",
            "_model_module_version": "1.2.0",
            "_model_name": "LayoutModel",
            "_view_count": null,
            "_view_module": "@jupyter-widgets/base",
            "_view_module_version": "1.2.0",
            "_view_name": "LayoutView",
            "align_content": null,
            "align_items": null,
            "align_self": null,
            "border": null,
            "bottom": null,
            "display": null,
            "flex": null,
            "flex_flow": null,
            "grid_area": null,
            "grid_auto_columns": null,
            "grid_auto_flow": null,
            "grid_auto_rows": null,
            "grid_column": null,
            "grid_gap": null,
            "grid_row": null,
            "grid_template_areas": null,
            "grid_template_columns": null,
            "grid_template_rows": null,
            "height": null,
            "justify_content": null,
            "justify_items": null,
            "left": null,
            "margin": null,
            "max_height": null,
            "max_width": null,
            "min_height": null,
            "min_width": null,
            "object_fit": null,
            "object_position": null,
            "order": null,
            "overflow": null,
            "overflow_x": null,
            "overflow_y": null,
            "padding": null,
            "right": null,
            "top": null,
            "visibility": null,
            "width": null
          }
        },
        "b78c9948d25c45439fc1003dd06ddce4": {
          "model_module": "@jupyter-widgets/controls",
          "model_name": "DescriptionStyleModel",
          "model_module_version": "1.5.0",
          "state": {
            "_model_module": "@jupyter-widgets/controls",
            "_model_module_version": "1.5.0",
            "_model_name": "DescriptionStyleModel",
            "_view_count": null,
            "_view_module": "@jupyter-widgets/base",
            "_view_module_version": "1.2.0",
            "_view_name": "StyleView",
            "description_width": ""
          }
        },
        "64d5d83240874b429450f9a6173b2956": {
          "model_module": "@jupyter-widgets/base",
          "model_name": "LayoutModel",
          "model_module_version": "1.2.0",
          "state": {
            "_model_module": "@jupyter-widgets/base",
            "_model_module_version": "1.2.0",
            "_model_name": "LayoutModel",
            "_view_count": null,
            "_view_module": "@jupyter-widgets/base",
            "_view_module_version": "1.2.0",
            "_view_name": "LayoutView",
            "align_content": null,
            "align_items": null,
            "align_self": null,
            "border": null,
            "bottom": null,
            "display": null,
            "flex": null,
            "flex_flow": null,
            "grid_area": null,
            "grid_auto_columns": null,
            "grid_auto_flow": null,
            "grid_auto_rows": null,
            "grid_column": null,
            "grid_gap": null,
            "grid_row": null,
            "grid_template_areas": null,
            "grid_template_columns": null,
            "grid_template_rows": null,
            "height": null,
            "justify_content": null,
            "justify_items": null,
            "left": null,
            "margin": null,
            "max_height": null,
            "max_width": null,
            "min_height": null,
            "min_width": null,
            "object_fit": null,
            "object_position": null,
            "order": null,
            "overflow": null,
            "overflow_x": null,
            "overflow_y": null,
            "padding": null,
            "right": null,
            "top": null,
            "visibility": null,
            "width": null
          }
        },
        "a2ead8d49f754546bf8e421df74c2154": {
          "model_module": "@jupyter-widgets/controls",
          "model_name": "ProgressStyleModel",
          "model_module_version": "1.5.0",
          "state": {
            "_model_module": "@jupyter-widgets/controls",
            "_model_module_version": "1.5.0",
            "_model_name": "ProgressStyleModel",
            "_view_count": null,
            "_view_module": "@jupyter-widgets/base",
            "_view_module_version": "1.2.0",
            "_view_name": "StyleView",
            "bar_color": null,
            "description_width": ""
          }
        },
        "851c3727887b4c78a4c85402ab381d61": {
          "model_module": "@jupyter-widgets/base",
          "model_name": "LayoutModel",
          "model_module_version": "1.2.0",
          "state": {
            "_model_module": "@jupyter-widgets/base",
            "_model_module_version": "1.2.0",
            "_model_name": "LayoutModel",
            "_view_count": null,
            "_view_module": "@jupyter-widgets/base",
            "_view_module_version": "1.2.0",
            "_view_name": "LayoutView",
            "align_content": null,
            "align_items": null,
            "align_self": null,
            "border": null,
            "bottom": null,
            "display": null,
            "flex": null,
            "flex_flow": null,
            "grid_area": null,
            "grid_auto_columns": null,
            "grid_auto_flow": null,
            "grid_auto_rows": null,
            "grid_column": null,
            "grid_gap": null,
            "grid_row": null,
            "grid_template_areas": null,
            "grid_template_columns": null,
            "grid_template_rows": null,
            "height": null,
            "justify_content": null,
            "justify_items": null,
            "left": null,
            "margin": null,
            "max_height": null,
            "max_width": null,
            "min_height": null,
            "min_width": null,
            "object_fit": null,
            "object_position": null,
            "order": null,
            "overflow": null,
            "overflow_x": null,
            "overflow_y": null,
            "padding": null,
            "right": null,
            "top": null,
            "visibility": null,
            "width": null
          }
        },
        "4ff9f92ebb7c4984be95ef705eb0d103": {
          "model_module": "@jupyter-widgets/controls",
          "model_name": "DescriptionStyleModel",
          "model_module_version": "1.5.0",
          "state": {
            "_model_module": "@jupyter-widgets/controls",
            "_model_module_version": "1.5.0",
            "_model_name": "DescriptionStyleModel",
            "_view_count": null,
            "_view_module": "@jupyter-widgets/base",
            "_view_module_version": "1.2.0",
            "_view_name": "StyleView",
            "description_width": ""
          }
        }
      }
    }
  },
  "cells": [
    {
      "cell_type": "code",
      "source": [
        "!pip install -U sentence-transformers\n",
        "\n",
        "!pip install datasets"
      ],
      "metadata": {
        "id": "2fXmbzhSMvLz"
      },
      "execution_count": null,
      "outputs": []
    },
    {
      "cell_type": "code",
      "execution_count": null,
      "metadata": {
        "id": "yQzToQmAMoPm"
      },
      "outputs": [],
      "source": [
        "from sentence_transformers import SentenceTransformer\n",
        "sentences = [\"This is an example sentence\", \"Each sentence is converted\"]\n",
        "\n",
        "model = SentenceTransformer('sentence-transformers/all-MiniLM-L6-v2')\n",
        "embeddings = model.encode(sentences)\n",
        "print(embeddings)"
      ]
    },
    {
      "cell_type": "code",
      "source": [
        "from datasets import load_dataset\n",
        "\n",
        "dataset = load_dataset(\"ag_news\")"
      ],
      "metadata": {
        "colab": {
          "base_uri": "https://localhost:8080/",
          "height": 85,
          "referenced_widgets": [
            "4aa8c65f99194fd18e972db90dc37651",
            "b7ca067c5cc54f8891e5e7f0c39f3a2b",
            "784c18ebc16648a7b383e9a89f9815f4",
            "0619c0a1d1204bfa96afbfca12dd45ad",
            "d3abf86509ab40b1bf0fc8ae27aeb10c",
            "aa495065dd414be5aa229fe9177d9540",
            "b78c9948d25c45439fc1003dd06ddce4",
            "64d5d83240874b429450f9a6173b2956",
            "a2ead8d49f754546bf8e421df74c2154",
            "851c3727887b4c78a4c85402ab381d61",
            "4ff9f92ebb7c4984be95ef705eb0d103"
          ]
        },
        "id": "UqcGRWlmM3Dh",
        "outputId": "c9286504-9320-4e15-a9f9-badce80085ad"
      },
      "execution_count": 4,
      "outputs": [
        {
          "output_type": "stream",
          "name": "stderr",
          "text": [
            "WARNING:datasets.builder:Using custom data configuration default\n",
            "WARNING:datasets.builder:Found cached dataset ag_news (/root/.cache/huggingface/datasets/ag_news/default/0.0.0/bc2bcb40336ace1a0374767fc29bb0296cdaf8a6da7298436239c54d79180548)\n"
          ]
        },
        {
          "output_type": "display_data",
          "data": {
            "text/plain": [
              "  0%|          | 0/2 [00:00<?, ?it/s]"
            ],
            "application/vnd.jupyter.widget-view+json": {
              "version_major": 2,
              "version_minor": 0,
              "model_id": "4aa8c65f99194fd18e972db90dc37651"
            }
          },
          "metadata": {}
        }
      ]
    },
    {
      "cell_type": "code",
      "source": [
        "dataset['train']"
      ],
      "metadata": {
        "colab": {
          "base_uri": "https://localhost:8080/",
          "height": 0
        },
        "id": "r6HIVHviNrIE",
        "outputId": "0ee91b9a-2d8b-40ef-983d-5d82dfeab18a"
      },
      "execution_count": 5,
      "outputs": [
        {
          "output_type": "execute_result",
          "data": {
            "text/plain": [
              "Dataset({\n",
              "    features: ['text', 'label'],\n",
              "    num_rows: 120000\n",
              "})"
            ]
          },
          "metadata": {},
          "execution_count": 5
        }
      ]
    },
    {
      "cell_type": "code",
      "source": [
        "embeddings_train = model.encode(dataset['train']['text'])"
      ],
      "metadata": {
        "id": "xO5z__62NQeL"
      },
      "execution_count": 6,
      "outputs": []
    },
    {
      "cell_type": "code",
      "source": [
        "embeddings_test = model.encode(dataset['test']['text'])"
      ],
      "metadata": {
        "id": "NcOq6aB6NyhT"
      },
      "execution_count": 7,
      "outputs": []
    },
    {
      "cell_type": "code",
      "source": [
        "embeddings_train.shape"
      ],
      "metadata": {
        "colab": {
          "base_uri": "https://localhost:8080/",
          "height": 0
        },
        "id": "CFqbgTo9Xthz",
        "outputId": "f6038e99-d808-47bf-ca89-04ee22615c4a"
      },
      "execution_count": 8,
      "outputs": [
        {
          "output_type": "execute_result",
          "data": {
            "text/plain": [
              "(120000, 384)"
            ]
          },
          "metadata": {},
          "execution_count": 8
        }
      ]
    },
    {
      "cell_type": "code",
      "source": [
        "import tensorflow as tf"
      ],
      "metadata": {
        "id": "uyioEBH1hyQc"
      },
      "execution_count": 10,
      "outputs": []
    },
    {
      "cell_type": "code",
      "source": [
        "y_train = tf.keras.utils.to_categorical(dataset['train']['label'])"
      ],
      "metadata": {
        "id": "V34dorE7ZXmD"
      },
      "execution_count": 11,
      "outputs": []
    },
    {
      "cell_type": "code",
      "source": [
        "y_train.shape"
      ],
      "metadata": {
        "colab": {
          "base_uri": "https://localhost:8080/",
          "height": 0
        },
        "id": "D7yO3GXlbmbk",
        "outputId": "eed98be4-5691-40f4-dd50-9dec8104337a"
      },
      "execution_count": 12,
      "outputs": [
        {
          "output_type": "execute_result",
          "data": {
            "text/plain": [
              "(120000, 4)"
            ]
          },
          "metadata": {},
          "execution_count": 12
        }
      ]
    },
    {
      "cell_type": "code",
      "source": [
        "import tensorflow as tf\n",
        "\n",
        "model_tf = tf.keras.Sequential(layers=[\n",
        "    tf.keras.layers.Dense(128),\n",
        "    tf.keras.layers.LeakyReLU(),\n",
        "    tf.keras.layers.Dropout(0.1),\n",
        "    tf.keras.layers.Dense(64),\n",
        "    tf.keras.layers.LeakyReLU(),\n",
        "    tf.keras.layers.Dropout(0.1),\n",
        "    tf.keras.layers.Dense(64),\n",
        "    tf.keras.layers.LeakyReLU(),\n",
        "    tf.keras.layers.Dropout(0.1),\n",
        "    tf.keras.layers.Dense(4, activation='softmax')\n",
        "])\n",
        "\n",
        "\n",
        "optimizer = tf.keras.optimizers.Adam(learning_rate=0.1)\n",
        "loss = tf.keras.losses.CategoricalCrossentropy()\n",
        "\n",
        "\n",
        "model_tf.compile(optimizer=optimizer, loss=loss, metrics=['accuracy'])\n",
        "\n",
        "reduce_lr =tf.keras.callbacks.ReduceLROnPlateau(monitor='val_loss', factor=0.2,\n",
        "                               patience=10, min_lr=0.0000001, verbose=1)\n"
      ],
      "metadata": {
        "id": "RN7OooefN0UT"
      },
      "execution_count": 27,
      "outputs": []
    },
    {
      "cell_type": "code",
      "source": [
        "optimizer = tf.keras.optimizers.Adam(learning_rate=0.01)\n",
        "model_tf.compile(optimizer=optimizer, loss=loss, metrics=['accuracy'])\n",
        "model_tf.fit(embeddings_train, y_train, validation_split=0.15, epochs=35, batch_size=128, callbacks=[reduce_lr])"
      ],
      "metadata": {
        "colab": {
          "base_uri": "https://localhost:8080/",
          "height": 0
        },
        "id": "kRODJ-dWhMhE",
        "outputId": "5d5e8601-e267-4b83-be35-a7b73d82758d"
      },
      "execution_count": 28,
      "outputs": [
        {
          "output_type": "stream",
          "name": "stdout",
          "text": [
            "Epoch 1/35\n",
            "797/797 [==============================] - 4s 4ms/step - loss: 0.3407 - accuracy: 0.8861 - val_loss: 0.2934 - val_accuracy: 0.8946 - lr: 0.0100\n",
            "Epoch 2/35\n",
            "797/797 [==============================] - 3s 4ms/step - loss: 0.3019 - accuracy: 0.8973 - val_loss: 0.2873 - val_accuracy: 0.9008 - lr: 0.0100\n",
            "Epoch 3/35\n",
            "797/797 [==============================] - 3s 3ms/step - loss: 0.2901 - accuracy: 0.9011 - val_loss: 0.2744 - val_accuracy: 0.9037 - lr: 0.0100\n",
            "Epoch 4/35\n",
            "797/797 [==============================] - 3s 4ms/step - loss: 0.2803 - accuracy: 0.9039 - val_loss: 0.2950 - val_accuracy: 0.8977 - lr: 0.0100\n",
            "Epoch 5/35\n",
            "797/797 [==============================] - 3s 3ms/step - loss: 0.2731 - accuracy: 0.9064 - val_loss: 0.2712 - val_accuracy: 0.9058 - lr: 0.0100\n",
            "Epoch 6/35\n",
            "797/797 [==============================] - 3s 3ms/step - loss: 0.2693 - accuracy: 0.9076 - val_loss: 0.2846 - val_accuracy: 0.9022 - lr: 0.0100\n",
            "Epoch 7/35\n",
            "797/797 [==============================] - 3s 3ms/step - loss: 0.2586 - accuracy: 0.9109 - val_loss: 0.2794 - val_accuracy: 0.9048 - lr: 0.0100\n",
            "Epoch 8/35\n",
            "797/797 [==============================] - 3s 4ms/step - loss: 0.2556 - accuracy: 0.9113 - val_loss: 0.2836 - val_accuracy: 0.9029 - lr: 0.0100\n",
            "Epoch 9/35\n",
            "797/797 [==============================] - 3s 4ms/step - loss: 0.2505 - accuracy: 0.9141 - val_loss: 0.2725 - val_accuracy: 0.9053 - lr: 0.0100\n",
            "Epoch 10/35\n",
            "797/797 [==============================] - 3s 3ms/step - loss: 0.2485 - accuracy: 0.9151 - val_loss: 0.2745 - val_accuracy: 0.9038 - lr: 0.0100\n",
            "Epoch 11/35\n",
            "797/797 [==============================] - 3s 4ms/step - loss: 0.2444 - accuracy: 0.9155 - val_loss: 0.3035 - val_accuracy: 0.8901 - lr: 0.0100\n",
            "Epoch 12/35\n",
            "797/797 [==============================] - 3s 3ms/step - loss: 0.2417 - accuracy: 0.9161 - val_loss: 0.2622 - val_accuracy: 0.9110 - lr: 0.0100\n",
            "Epoch 13/35\n",
            "797/797 [==============================] - 3s 3ms/step - loss: 0.2362 - accuracy: 0.9179 - val_loss: 0.2712 - val_accuracy: 0.9056 - lr: 0.0100\n",
            "Epoch 14/35\n",
            "797/797 [==============================] - 3s 3ms/step - loss: 0.2358 - accuracy: 0.9181 - val_loss: 0.2704 - val_accuracy: 0.9050 - lr: 0.0100\n",
            "Epoch 15/35\n",
            "797/797 [==============================] - 3s 4ms/step - loss: 0.2309 - accuracy: 0.9198 - val_loss: 0.2714 - val_accuracy: 0.9087 - lr: 0.0100\n",
            "Epoch 16/35\n",
            "797/797 [==============================] - 3s 3ms/step - loss: 0.2314 - accuracy: 0.9195 - val_loss: 0.2788 - val_accuracy: 0.9018 - lr: 0.0100\n",
            "Epoch 17/35\n",
            "797/797 [==============================] - 3s 3ms/step - loss: 0.2289 - accuracy: 0.9205 - val_loss: 0.2836 - val_accuracy: 0.9039 - lr: 0.0100\n",
            "Epoch 18/35\n",
            "797/797 [==============================] - 3s 3ms/step - loss: 0.2256 - accuracy: 0.9213 - val_loss: 0.2680 - val_accuracy: 0.9081 - lr: 0.0100\n",
            "Epoch 19/35\n",
            "797/797 [==============================] - 3s 3ms/step - loss: 0.2261 - accuracy: 0.9207 - val_loss: 0.2836 - val_accuracy: 0.9001 - lr: 0.0100\n",
            "Epoch 20/35\n",
            "797/797 [==============================] - 3s 4ms/step - loss: 0.2222 - accuracy: 0.9223 - val_loss: 0.3018 - val_accuracy: 0.8998 - lr: 0.0100\n",
            "Epoch 21/35\n",
            "797/797 [==============================] - 3s 3ms/step - loss: 0.2214 - accuracy: 0.9230 - val_loss: 0.2742 - val_accuracy: 0.9027 - lr: 0.0100\n",
            "Epoch 22/35\n",
            "789/797 [============================>.] - ETA: 0s - loss: 0.2197 - accuracy: 0.9232\n",
            "Epoch 22: ReduceLROnPlateau reducing learning rate to 0.0019999999552965165.\n",
            "797/797 [==============================] - 3s 3ms/step - loss: 0.2194 - accuracy: 0.9233 - val_loss: 0.2871 - val_accuracy: 0.9028 - lr: 0.0100\n",
            "Epoch 23/35\n",
            "797/797 [==============================] - 3s 4ms/step - loss: 0.1735 - accuracy: 0.9382 - val_loss: 0.2641 - val_accuracy: 0.9117 - lr: 0.0020\n",
            "Epoch 24/35\n",
            "797/797 [==============================] - 3s 3ms/step - loss: 0.1638 - accuracy: 0.9413 - val_loss: 0.2651 - val_accuracy: 0.9106 - lr: 0.0020\n",
            "Epoch 25/35\n",
            "797/797 [==============================] - 3s 3ms/step - loss: 0.1599 - accuracy: 0.9416 - val_loss: 0.2727 - val_accuracy: 0.9109 - lr: 0.0020\n",
            "Epoch 26/35\n",
            "797/797 [==============================] - 3s 3ms/step - loss: 0.1586 - accuracy: 0.9426 - val_loss: 0.2781 - val_accuracy: 0.9071 - lr: 0.0020\n",
            "Epoch 27/35\n",
            "797/797 [==============================] - 3s 4ms/step - loss: 0.1570 - accuracy: 0.9425 - val_loss: 0.2734 - val_accuracy: 0.9094 - lr: 0.0020\n",
            "Epoch 28/35\n",
            "797/797 [==============================] - 3s 3ms/step - loss: 0.1552 - accuracy: 0.9432 - val_loss: 0.2761 - val_accuracy: 0.9109 - lr: 0.0020\n",
            "Epoch 29/35\n",
            "797/797 [==============================] - 3s 4ms/step - loss: 0.1538 - accuracy: 0.9441 - val_loss: 0.2772 - val_accuracy: 0.9084 - lr: 0.0020\n",
            "Epoch 30/35\n",
            "797/797 [==============================] - 3s 3ms/step - loss: 0.1525 - accuracy: 0.9445 - val_loss: 0.2737 - val_accuracy: 0.9098 - lr: 0.0020\n",
            "Epoch 31/35\n",
            "797/797 [==============================] - 3s 4ms/step - loss: 0.1492 - accuracy: 0.9454 - val_loss: 0.2776 - val_accuracy: 0.9085 - lr: 0.0020\n",
            "Epoch 32/35\n",
            "785/797 [============================>.] - ETA: 0s - loss: 0.1483 - accuracy: 0.9455\n",
            "Epoch 32: ReduceLROnPlateau reducing learning rate to 0.0003999999724328518.\n",
            "797/797 [==============================] - 3s 3ms/step - loss: 0.1482 - accuracy: 0.9455 - val_loss: 0.2780 - val_accuracy: 0.9092 - lr: 0.0020\n",
            "Epoch 33/35\n",
            "797/797 [==============================] - 3s 3ms/step - loss: 0.1392 - accuracy: 0.9485 - val_loss: 0.2793 - val_accuracy: 0.9092 - lr: 4.0000e-04\n",
            "Epoch 34/35\n",
            "797/797 [==============================] - 3s 4ms/step - loss: 0.1353 - accuracy: 0.9498 - val_loss: 0.2810 - val_accuracy: 0.9106 - lr: 4.0000e-04\n",
            "Epoch 35/35\n",
            "797/797 [==============================] - 3s 4ms/step - loss: 0.1341 - accuracy: 0.9509 - val_loss: 0.2910 - val_accuracy: 0.9073 - lr: 4.0000e-04\n"
          ]
        },
        {
          "output_type": "execute_result",
          "data": {
            "text/plain": [
              "<keras.callbacks.History at 0x7f19e68d7890>"
            ]
          },
          "metadata": {},
          "execution_count": 28
        }
      ]
    },
    {
      "cell_type": "code",
      "source": [
        "y_test = tf.keras.utils.to_categorical(dataset['test']['label'])"
      ],
      "metadata": {
        "id": "2yqGn63Lkyfl"
      },
      "execution_count": 29,
      "outputs": []
    },
    {
      "cell_type": "code",
      "source": [
        "model_tf.evaluate(embeddings_test, y_test)"
      ],
      "metadata": {
        "colab": {
          "base_uri": "https://localhost:8080/",
          "height": 0
        },
        "id": "C4au8ePKkmYr",
        "outputId": "2c49e787-c3fb-464f-af0e-8e421aba6f30"
      },
      "execution_count": 30,
      "outputs": [
        {
          "output_type": "stream",
          "name": "stdout",
          "text": [
            "238/238 [==============================] - 1s 2ms/step - loss: 0.2785 - accuracy: 0.9176\n"
          ]
        },
        {
          "output_type": "execute_result",
          "data": {
            "text/plain": [
              "[0.27851951122283936, 0.9176315665245056]"
            ]
          },
          "metadata": {},
          "execution_count": 30
        }
      ]
    }
  ]
}